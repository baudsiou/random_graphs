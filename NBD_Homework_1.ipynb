{
 "cells": [
  {
   "cell_type": "markdown",
   "metadata": {},
   "source": [
    "### Part 1\n",
    "\n",
    "Write a script to generate an\n",
    "p\n",
    "-ER random graph"
   ]
  },
  {
   "cell_type": "markdown",
   "metadata": {},
   "source": [
    "From scratch"
   ]
  },
  {
   "cell_type": "code",
   "execution_count": 21,
   "metadata": {},
   "outputs": [
    {
     "data": {
      "text/plain": [
       "20.0"
      ]
     },
     "execution_count": 21,
     "metadata": {},
     "output_type": "execute_result"
    }
   ],
   "source": [
    "from scipy.special import comb\n",
    "#import numpy as np\n",
    "#import igraph\n",
    "import random\n",
    "from triarray import TriMatrix\n",
    "#A complete graph is a graph in which for every two vertices there is a path between them.\n",
    "#So we need to form a graph such that for each edge there exist two nodes (n c 2)\n",
    "\n",
    "def pEr_mod1(n = 5, m = 3):\n",
    "    # compute the number of edges ( n c m = n! / m! (n - m!) ))\n",
    "    D = comb(n, m, exact=True)\n",
    "    # choose at random m indexes where to put edges\n",
    "    i = np.random.choice(D, m, replace=False)\n",
    "    # build a D dimensional vector containing the edges\n",
    "    v = np.array([1 if k in i else 0 for k in range(D)])\n",
    "    print(v)\n",
    "    R = []\n",
    "    for i in range(0,n-1):\n",
    "        for j in range(i,n): \n",
    "            R[i][j] = v[i+j]\n",
    "    print(i, v, R)\n",
    "    \n",
    "\n",
    "    \n",
    "#pEr_mod1(n = 10, m = 2)\n",
    "comb(6,3)\n",
    "\n",
    "\n"
   ]
  },
  {
   "cell_type": "markdown",
   "metadata": {},
   "source": [
    "Using libraries"
   ]
  },
  {
   "cell_type": "code",
   "execution_count": 100,
   "metadata": {},
   "outputs": [
    {
     "data": {
      "text/plain": [
       "'nx.draw(rrG)\\nplt.show()\\nnx.info(rrG)'"
      ]
     },
     "execution_count": 100,
     "metadata": {},
     "output_type": "execute_result"
    }
   ],
   "source": [
    "import networkx as nx\n",
    "import matplotlib.pyplot as plt\n",
    "import numpy.linalg as alg\n",
    "import numpy as np\n",
    "\n",
    "n = 6\n",
    "m = 3\n",
    "p = 0.3\n",
    "r = 5\n",
    "\n",
    "# create a G_n,m random graph\n",
    "Gnm = nx.gnm_random_graph(n = n, m = m)\n",
    "# the adjacency matrix\n",
    "A_Gnm = nx.to_numpy_matrix(Gnm)\n",
    "# create a G_n,p random graph\n",
    "Gnp = nx.gnp_random_graph(n=n, p=p)\n",
    "# the adjacency matrix\n",
    "A_Gnp = nx.to_numpy_matrix(Gnp)\n",
    "# create a r-regular random graph\n",
    "rrG = nx.random_regular_graph(d=r, n=n)\n",
    "# the adjacency matrix\n",
    "A_rrG = nx.to_numpy_matrix(rrG)\n",
    "\n",
    "'''nx.draw(rrG)\n",
    "plt.show()\n",
    "nx.info(rrG)'''\n",
    "\n"
   ]
  },
  {
   "cell_type": "code",
   "execution_count": 105,
   "metadata": {},
   "outputs": [
    {
     "data": {
      "text/plain": [
       "matrix([[0., 0., 0., 1., 1., 0.],\n",
       "        [0., 0., 0., 1., 0., 0.],\n",
       "        [0., 0., 0., 0., 0., 0.],\n",
       "        [1., 1., 0., 0., 0., 0.],\n",
       "        [1., 0., 0., 0., 0., 0.],\n",
       "        [0., 0., 0., 0., 0., 0.]])"
      ]
     },
     "execution_count": 105,
     "metadata": {},
     "output_type": "execute_result"
    }
   ],
   "source": [
    "\n",
    "A_Gnm"
   ]
  },
  {
   "cell_type": "markdown",
   "metadata": {},
   "source": [
    "Write a script to generate an\n",
    "r\n",
    "-regular random graph.\n"
   ]
  },
  {
   "cell_type": "code",
   "execution_count": null,
   "metadata": {
    "collapsed": true
   },
   "outputs": [],
   "source": []
  },
  {
   "cell_type": "markdown",
   "metadata": {},
   "source": [
    "Write a script to check the connectivity of a given graph.\n",
    "- algebraic method 1 (irreducibility);\n",
    "- algebraic method 2 (eigenvalue of the Laplacian matrix);\n",
    "- breadth-first search algorithm.\n"
   ]
  },
  {
   "cell_type": "code",
   "execution_count": 74,
   "metadata": {},
   "outputs": [
    {
     "name": "stdout",
     "output_type": "stream",
     "text": [
      "The graph is irreducible, hence connected\n"
     ]
    },
    {
     "data": {
      "text/plain": [
       "1"
      ]
     },
     "execution_count": 74,
     "metadata": {},
     "output_type": "execute_result"
    }
   ],
   "source": [
    "# Irreducibility\n",
    "\n",
    "def irredicibility(matrix):\n",
    "    n = matrix.shape[0]\n",
    "    S = np.zeros((n,n))\n",
    "    for n in range(n):\n",
    "           S = S + alg.matrix_power(M=matrix, n=n)\n",
    "    if S.any() > 0: \n",
    "        print('The graph is irreducible, hence connected')\n",
    "        return 1\n",
    "    else: return 0\n",
    "\n",
    "\n",
    "irredicibility(A_rrG)"
   ]
  },
  {
   "cell_type": "code",
   "execution_count": 129,
   "metadata": {},
   "outputs": [
    {
     "name": "stdout",
     "output_type": "stream",
     "text": [
      "0\n",
      "1\n",
      "2\n",
      "3\n",
      "4\n",
      "5\n"
     ]
    }
   ],
   "source": [
    "de = rrG.degree()\n",
    "for i in de:\n",
    "    print(i)"
   ]
  },
  {
   "cell_type": "code",
   "execution_count": 136,
   "metadata": {},
   "outputs": [
    {
     "data": {
      "text/plain": [
       "array([[2, 0, 0, 0, 0, 0],\n",
       "       [0, 1, 0, 0, 0, 0],\n",
       "       [0, 0, 0, 0, 0, 0],\n",
       "       [0, 0, 0, 2, 0, 0],\n",
       "       [0, 0, 0, 0, 1, 0],\n",
       "       [0, 0, 0, 0, 0, 0]])"
      ]
     },
     "execution_count": 136,
     "metadata": {},
     "output_type": "execute_result"
    }
   ],
   "source": [
    "D = np.diag(list(nx.degree(G=Gnm).values()))\n",
    "D"
   ]
  },
  {
   "cell_type": "code",
   "execution_count": 31,
   "metadata": {},
   "outputs": [
    {
     "ename": "NameError",
     "evalue": "name 'rrG' is not defined",
     "output_type": "error",
     "traceback": [
      "\u001b[1;31m---------------------------------------------------------------------------\u001b[0m",
      "\u001b[1;31mNameError\u001b[0m                                 Traceback (most recent call last)",
      "\u001b[1;32m<ipython-input-31-cc54161e62d3>\u001b[0m in \u001b[0;36m<module>\u001b[1;34m()\u001b[0m\n\u001b[0;32m     11\u001b[0m  \u001b[1;32mreturn\u001b[0m\u001b[1;33m(\u001b[0m\u001b[0mL\u001b[0m\u001b[1;33m)\u001b[0m\u001b[1;33m\u001b[0m\u001b[0m\n\u001b[0;32m     12\u001b[0m \u001b[1;33m\u001b[0m\u001b[0m\n\u001b[1;32m---> 13\u001b[1;33m \u001b[0mL\u001b[0m \u001b[1;33m=\u001b[0m \u001b[0mLaplacian\u001b[0m\u001b[1;33m(\u001b[0m\u001b[0mrrG\u001b[0m\u001b[1;33m)\u001b[0m\u001b[1;33m\u001b[0m\u001b[0m\n\u001b[0m\u001b[0;32m     14\u001b[0m \u001b[0mc\u001b[0m \u001b[1;33m=\u001b[0m \u001b[0mnp\u001b[0m\u001b[1;33m.\u001b[0m\u001b[0msort\u001b[0m\u001b[1;33m(\u001b[0m\u001b[0malg\u001b[0m\u001b[1;33m.\u001b[0m\u001b[0meig\u001b[0m\u001b[1;33m(\u001b[0m\u001b[0mL\u001b[0m\u001b[1;33m)\u001b[0m\u001b[1;33m[\u001b[0m\u001b[1;36m0\u001b[0m\u001b[1;33m]\u001b[0m\u001b[1;33m)\u001b[0m\u001b[1;33m\u001b[0m\u001b[0m\n\u001b[0;32m     15\u001b[0m \u001b[0mc\u001b[0m\u001b[1;33m\u001b[0m\u001b[0m\n",
      "\u001b[1;31mNameError\u001b[0m: name 'rrG' is not defined"
     ]
    }
   ],
   "source": [
    "    \n",
    "# Eigenvalue of the Laplacian Matrix\n",
    "\n",
    "def Laplacian(graph):\n",
    " A = nx.to_numpy_matrix(graph)\n",
    " print(A)\n",
    " D = np.diag(list(nx.degree(G=graph).values()))\n",
    " \n",
    " L = D-A\n",
    " print(L) \n",
    " return(L)\n",
    "\n",
    "L = Laplacian(rrG)\n",
    "c = np.sort(alg.eig(L)[0])\n",
    "c"
   ]
  },
  {
   "cell_type": "code",
   "execution_count": 141,
   "metadata": {},
   "outputs": [
    {
     "data": {
      "text/plain": [
       "[0, 1, 2, 3, 4, 5]"
      ]
     },
     "execution_count": 141,
     "metadata": {},
     "output_type": "execute_result"
    }
   ],
   "source": [
    "# Breath first search\n",
    "# finds all paths for a given node\n",
    "\n",
    "\n",
    "rrG.nodes()"
   ]
  },
  {
   "cell_type": "markdown",
   "metadata": {},
   "source": [
    "Compare the complexity as a function of\n",
    "n\n",
    "of the methods\n",
    "above."
   ]
  },
  {
   "cell_type": "code",
   "execution_count": 55,
   "metadata": {},
   "outputs": [],
   "source": []
  },
  {
   "cell_type": "markdown",
   "metadata": {},
   "source": [
    "Let\n",
    "p\n",
    "c\n",
    "(\n",
    "G\n",
    ") denote the probability that a graph\n",
    "G\n",
    "is connected.\n",
    "\n",
    "Produce two graphs:\n",
    "p\n",
    "c\n",
    "(\n",
    "G\n",
    ") vs.\n",
    "p\n",
    "for Erd ̋os-R ́enyi graphs\n",
    "G\n",
    "(\n",
    "n\n",
    ",\n",
    "p\n",
    ") with\n",
    "n\n",
    "= 100.\n",
    "p\n",
    "c\n",
    "(\n",
    "G\n",
    ") vs.\n",
    "n\n",
    "for\n",
    "r\n",
    "-regular random graphs with\n",
    "r\n",
    "= 2\n",
    ",\n",
    "4\n",
    ",\n",
    "8\n",
    ",\n",
    "16\n",
    "and\n",
    "n\n",
    "ranging up to 100."
   ]
  },
  {
   "cell_type": "code",
   "execution_count": null,
   "metadata": {
    "collapsed": true
   },
   "outputs": [],
   "source": []
  },
  {
   "cell_type": "markdown",
   "metadata": {},
   "source": [
    "### Part 2 \n",
    "\n",
    "Throughput performance\n",
    "Write a script that:  \n",
    "- (i) generates a random graph describing\n",
    "the topology of the ToR switch network; \n",
    "- (ii) checks its\n",
    "connectivity; \n",
    "- (iii) finds shortest path routes; (iv) estimates\n",
    "h\n",
    ".\n",
    "\n",
    "Use both the\n",
    "r\n",
    "-regular random graph model and the\n",
    "p\n",
    "-Erd ̋os-R ́enyi random graph model.  In either case let\n",
    "n\n",
    "be the\n",
    "number of nodes (you can assume 9\n",
    "≤\n",
    "n\n",
    "≤\n",
    "100,\n",
    "r\n",
    "= 8 and\n",
    "p\n",
    "= 8\n",
    "/\n",
    "(\n",
    "n\n",
    "−\n",
    "1))\n",
    "\n",
    "Plot the application-oblivious throughput bound\n",
    "TH\n",
    ", as\n",
    "defined above, versus\n",
    "n\n",
    "for the two graph models."
   ]
  },
  {
   "cell_type": "code",
   "execution_count": 33,
   "metadata": {},
   "outputs": [
    {
     "name": "stderr",
     "output_type": "stream",
     "text": [
      "c:\\users\\sp\\appdata\\local\\programs\\python\\python36-32\\lib\\site-packages\\networkx\\drawing\\nx_pylab.py:126: MatplotlibDeprecationWarning: pyplot.hold is deprecated.\n",
      "    Future behavior will be consistent with the long-time default:\n",
      "    plot commands add elements without first clearing the\n",
      "    Axes and/or Figure.\n",
      "  b = plt.ishold()\n",
      "c:\\users\\sp\\appdata\\local\\programs\\python\\python36-32\\lib\\site-packages\\networkx\\drawing\\nx_pylab.py:522: MatplotlibDeprecationWarning: The is_string_like function was deprecated in version 2.1.\n",
      "  if not cb.is_string_like(edge_color) \\\n",
      "c:\\users\\sp\\appdata\\local\\programs\\python\\python36-32\\lib\\site-packages\\networkx\\drawing\\nx_pylab.py:543: MatplotlibDeprecationWarning: The is_string_like function was deprecated in version 2.1.\n",
      "  if cb.is_string_like(edge_color) or len(edge_color) == 1:\n",
      "c:\\users\\sp\\appdata\\local\\programs\\python\\python36-32\\lib\\site-packages\\networkx\\drawing\\nx_pylab.py:138: MatplotlibDeprecationWarning: pyplot.hold is deprecated.\n",
      "    Future behavior will be consistent with the long-time default:\n",
      "    plot commands add elements without first clearing the\n",
      "    Axes and/or Figure.\n",
      "  plt.hold(b)\n",
      "c:\\users\\sp\\appdata\\local\\programs\\python\\python36-32\\lib\\site-packages\\matplotlib\\__init__.py:805: MatplotlibDeprecationWarning: axes.hold is deprecated. Please remove it from your matplotlibrc and/or style files.\n",
      "  mplDeprecation)\n",
      "c:\\users\\sp\\appdata\\local\\programs\\python\\python36-32\\lib\\site-packages\\matplotlib\\rcsetup.py:155: MatplotlibDeprecationWarning: axes.hold is deprecated, will be removed in 3.0\n",
      "  mplDeprecation)\n"
     ]
    },
    {
     "data": {
      "image/png": "[encoded data removed]",
      "text/plain": [
       "<matplotlib.figure.Figure at 0xaddeef0>"
      ]
     },
     "metadata": {},
     "output_type": "display_data"
    }
   ],
   "source": [
    "#(i)  Like a regular graph/jellyfish/A regular graph is simply one where each node has the same degree.\n",
    "#And a graph in Jellyfish is one where the switches in the topology are the nodes.\n",
    "\n",
    "import networkx as nx\n",
    "import matplotlib.pyplot as plt\n",
    "   \n",
    "switches = 5\n",
    "degree = 2\n",
    "jelly = nx.random_regular_graph(d=degree, n=switches,seed=123)\n",
    "A_jelly = nx.to_numpy_matrix(jelly)\n",
    "\n",
    "\n",
    "nx.draw(jelly)\n",
    "plt.show()    \n",
    "\n"
   ]
  },
  {
   "cell_type": "code",
   "execution_count": 12,
   "metadata": {},
   "outputs": [
    {
     "data": {
      "text/plain": [
       "matrix([[0., 1., 0., 0., 1.],\n",
       "        [1., 0., 1., 0., 0.],\n",
       "        [0., 1., 0., 1., 0.],\n",
       "        [0., 0., 1., 0., 1.],\n",
       "        [1., 0., 0., 1., 0.]])"
      ]
     },
     "execution_count": 12,
     "metadata": {},
     "output_type": "execute_result"
    }
   ],
   "source": [
    "A_jelly"
   ]
  },
  {
   "cell_type": "code",
   "execution_count": 9,
   "metadata": {},
   "outputs": [
    {
     "data": {
      "text/plain": [
       "[(0, 2),\n",
       " (0, 3),\n",
       " (1, 3),\n",
       " (1, 4),\n",
       " (2, 0),\n",
       " (2, 4),\n",
       " (3, 0),\n",
       " (3, 1),\n",
       " (4, 1),\n",
       " (4, 2)]"
      ]
     },
     "execution_count": 9,
     "metadata": {},
     "output_type": "execute_result"
    }
   ],
   "source": [
    "#1.Identify the nodes which have no links to other nodes\n",
    "#DONT USE\n",
    "def mat(matrix):\n",
    "    l=[]\n",
    "    for i in range(len(matrix)):\n",
    "        for j in range(len(matrix)):\n",
    "            if matrix[i,j] == 0 and i!=j:\n",
    "                    l.append((i,j))    \n",
    "    return(l)\n",
    "                \n",
    "mat(A_jelly)"
   ]
  },
  {
   "cell_type": "code",
   "execution_count": 10,
   "metadata": {},
   "outputs": [
    {
     "data": {
      "text/plain": [
       "[(2, 0), (2, 1), (0, 3), (4, 3), (1, 4)]"
      ]
     },
     "execution_count": 10,
     "metadata": {},
     "output_type": "execute_result"
    }
   ],
   "source": [
    "##### Returns a random pair of nodes that are not connected with an edge (not neighbours)\n",
    "###Adds an edge to the nodes qhich hasnt an edge before\n",
    "#### By firstly picking any node uniformly at random.\n",
    "\n",
    "import numpy as np \n",
    "from random import choice\n",
    "\n",
    "\n",
    "\n",
    "def check_con (graph,swithces):\n",
    "    l=[]\n",
    "    for node in graph.nodes():\n",
    "        #select 2 pair of nodes uniformly\n",
    "        node1 = np.random.choice(graph.nodes())  \n",
    "        node2 = np.random.choice(graph.nodes())\n",
    "        #print(node1,node2)\n",
    "        # if there is an edge betweeen them or it happened to coose the same node pick again!\n",
    "        while graph.has_edge(node1,node2) or node1==node2:\n",
    "            node1 = np.random.choice(graph.nodes())\n",
    "            node2 = np.random.choice(graph.nodes())   \n",
    "        l.append((node1,node2))        \n",
    "        graph.add_edge(node1,node2)\n",
    "        #If a switch has ≥ 2 free ports left, say (p1, p2), choose a random link (x, y)\n",
    "        # remove it and replace it with (p1, x) and (p2, y).\n",
    "    if (len(graph.edges()) + 2) <= ((switches * (switches - 1)) / 2 :\n",
    "        link = np.random.choice(graph.edges())  \n",
    "        rem_link = graph.remove_edge(link)\n",
    "###Dont know how to proceed\n",
    "        \n",
    "    return(l)     \n",
    "            \n",
    "check_con(jelly)\n"
   ]
  },
  {
   "cell_type": "code",
   "execution_count": 18,
   "metadata": {},
   "outputs": [
    {
     "ename": "TypeError",
     "evalue": "has_edge() missing 2 required positional arguments: 'u' and 'v'",
     "output_type": "error",
     "traceback": [
      "\u001b[1;31m---------------------------------------------------------------------------\u001b[0m",
      "\u001b[1;31mTypeError\u001b[0m                                 Traceback (most recent call last)",
      "\u001b[1;32m<ipython-input-18-b8c008e49060>\u001b[0m in \u001b[0;36m<module>\u001b[1;34m()\u001b[0m\n\u001b[1;32m----> 1\u001b[1;33m \u001b[0mjelly\u001b[0m\u001b[1;33m.\u001b[0m\u001b[0mhas_edge\u001b[0m\u001b[1;33m(\u001b[0m\u001b[1;33m)\u001b[0m\u001b[1;33m\u001b[0m\u001b[0m\n\u001b[0m",
      "\u001b[1;31mTypeError\u001b[0m: has_edge() missing 2 required positional arguments: 'u' and 'v'"
     ]
    }
   ],
   "source": []
  },
  {
   "cell_type": "code",
   "execution_count": 25,
   "metadata": {},
   "outputs": [
    {
     "data": {
      "text/plain": [
       "0.0"
      ]
     },
     "execution_count": 25,
     "metadata": {},
     "output_type": "execute_result"
    }
   ],
   "source": []
  },
  {
   "cell_type": "code",
   "execution_count": 28,
   "metadata": {},
   "outputs": [
    {
     "data": {
      "text/plain": [
       "[(1, 2),\n",
       " (1, 7),\n",
       " (2, 3),\n",
       " (4, 10),\n",
       " (4, 6),\n",
       " (10, 8),\n",
       " (9, 13),\n",
       " (9, 12),\n",
       " (13, 5),\n",
       " (6, 11),\n",
       " (11, 14),\n",
       " (5, 12),\n",
       " (0, 7),\n",
       " (0, 8),\n",
       " (3, 14)]"
      ]
     },
     "execution_count": 28,
     "metadata": {},
     "output_type": "execute_result"
    }
   ],
   "source": [
    "jelly.edges()"
   ]
  },
  {
   "cell_type": "code",
   "execution_count": 32,
   "metadata": {},
   "outputs": [
    {
     "data": {
      "text/plain": [
       "210"
      ]
     },
     "execution_count": 32,
     "metadata": {},
     "output_type": "execute_result"
    }
   ],
   "source": [
    "15 * 14"
   ]
  },
  {
   "cell_type": "code",
   "execution_count": 86,
   "metadata": {},
   "outputs": [
    {
     "data": {
      "text/plain": [
       "True"
      ]
     },
     "execution_count": 86,
     "metadata": {},
     "output_type": "execute_result"
    }
   ],
   "source": [
    "jelly.has_edge(0,1)"
   ]
  },
  {
   "cell_type": "code",
   "execution_count": 31,
   "metadata": {},
   "outputs": [
    {
     "data": {
      "text/plain": [
       "15"
      ]
     },
     "execution_count": 31,
     "metadata": {},
     "output_type": "execute_result"
    }
   ],
   "source": [
    "len(jelly.edges())"
   ]
  },
  {
   "cell_type": "markdown",
   "metadata": {},
   "source": [
    "Reliability performance\n",
    "\n",
    "Assume a link can break down (fail) with probability\n",
    "q\n",
    ".\n",
    "\n",
    "Plot\n",
    "TH\n",
    "as a function of\n",
    "q\n",
    "for 0\n",
    "<\n",
    "q\n",
    "≤\n",
    "0\n",
    ".\n",
    "25, for the two\n",
    "network models in point 1) above with\n",
    "n\n",
    "= 100."
   ]
  },
  {
   "cell_type": "code",
   "execution_count": null,
   "metadata": {
    "collapsed": true
   },
   "outputs": [],
   "source": []
  }
 ],
 "metadata": {
  "kernelspec": {
   "display_name": "Python 3",
   "language": "python",
   "name": "python3"
  },
  "language_info": {
   "codemirror_mode": {
    "name": "ipython",
    "version": 3
   },
   "file_extension": ".py",
   "mimetype": "text/x-python",
   "name": "python",
   "nbconvert_exporter": "python",
   "pygments_lexer": "ipython3",
   "version": "3.6.3"
  }
 },
 "nbformat": 4,
 "nbformat_minor": 2
}
