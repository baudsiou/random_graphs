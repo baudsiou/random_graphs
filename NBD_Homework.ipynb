{
 "cells": [
  {
   "cell_type": "markdown",
   "metadata": {},
   "source": [
    "### Part 1\n",
    "\n",
    "Write a script to generate an\n",
    "p\n",
    "-ER random graph"
   ]
  },
  {
   "cell_type": "markdown",
   "metadata": {},
   "source": [
    "From scratch"
   ]
  },
  {
   "cell_type": "code",
   "execution_count": null,
   "metadata": {
    "collapsed": true
   },
   "outputs": [],
   "source": [
    "#from scipy.special import comb\n",
    "#import numpy as np\n",
    "#import igraph\n",
    "import random\n",
    "from triarray import TriMatrix\n",
    "\n",
    "def pEr_mod1(n = 5, m = 3):\n",
    "    # compute the number of edges n(n-1)/2\n",
    "    D = comb(n, m, exact=True)\n",
    "    # choose at random m indexes where to put edges\n",
    "    i = np.random.choice(D, m, replace=False)\n",
    "    # build a D dimensional vector containing the edges\n",
    "    v = np.array([1 if k in i else 0 for k in range(D)])\n",
    "    print(v)\n",
    "    R = []\n",
    "    for i in range(0,n-1):\n",
    "        for j in range(i,n): \n",
    "            R[i][j] = v[i+j]\n",
    "    print(i, v, R)\n",
    "    \n",
    "\n",
    "    \n",
    "#def pEr_mod2(n = 10, p = 0.50):\n",
    "comb(5,3)"
   ]
  },
  {
   "cell_type": "markdown",
   "metadata": {},
   "source": [
    "Using libraries"
   ]
  },
  {
   "cell_type": "code",
   "execution_count": 12,
   "metadata": {},
   "outputs": [
    {
     "data": {
      "text/plain": [
       "'nx.draw(rrG)\\nplt.show()\\nnx.info(rrG)'"
      ]
     },
     "execution_count": 12,
     "metadata": {},
     "output_type": "execute_result"
    }
   ],
   "source": [
    "import networkx as nx\n",
    "import matplotlib.pyplot as plt\n",
    "import numpy.linalg as alg\n",
    "import numpy as np\n",
    "\n",
    "n = 6\n",
    "m = 3\n",
    "p = 0.3\n",
    "r = 5\n",
    "\n",
    "# create a G_n,m random graph\n",
    "Gnm = nx.gnm_random_graph(n = n, m = m)\n",
    "# the adjacency matrix\n",
    "A_Gnm = nx.to_numpy_matrix(Gnm)\n",
    "# create a G_n,p random graph\n",
    "Gnp = nx.gnp_random_graph(n=n, p=p)\n",
    "# the adjacency matrix\n",
    "A_Gnp = nx.to_numpy_matrix(Gnp)\n",
    "# create a r-regular random graph\n",
    "rrG = nx.random_regular_graph(d=r, n=n)\n",
    "# the adjacency matrix\n",
    "A_rrG = nx.to_numpy_matrix(rrG)\n",
    "\n",
    "'''nx.draw(rrG)\n",
    "plt.show()\n",
    "nx.info(rrG)'''\n",
    "\n"
   ]
  },
  {
   "cell_type": "code",
   "execution_count": null,
   "metadata": {
    "collapsed": true
   },
   "outputs": [],
   "source": [
    "\n"
   ]
  },
  {
   "cell_type": "markdown",
   "metadata": {},
   "source": [
    "Write a script to generate an\n",
    "r\n",
    "-regular random graph.\n"
   ]
  },
  {
   "cell_type": "code",
   "execution_count": null,
   "metadata": {
    "collapsed": true
   },
   "outputs": [],
   "source": []
  },
  {
   "cell_type": "markdown",
   "metadata": {},
   "source": [
    "Write a script to check the connectivity of a given graph.\n",
    "- algebraic method 1 (irreducibility);\n",
    "- algebraic method 2 (eigenvalue of the Laplacian matrix);\n",
    "- breadth-first search algorithm.\n"
   ]
  },
  {
   "cell_type": "code",
   "execution_count": 8,
   "metadata": {},
   "outputs": [
    {
     "name": "stdout",
     "output_type": "stream",
     "text": [
      "The graph is irreducible,\n",
      "-> The graph is connehence connected\n"
     ]
    }
   ],
   "source": [
    "# Irreducibility\n",
    "\n",
    "def irredicibility(matrix):\n",
    "    n = matrix.shape[0]\n",
    "    S = np.zeros((n,n))\n",
    "    for n in range(n):\n",
    "           S = S + alg.matrix_power(M=matrix, n=n)\n",
    "    if S.any() > 0: \n",
    "        print('The graph is irreducible,\\n-> The graph is connehence connected')\n",
    "    \n",
    "\n",
    "\n",
    "irredicibility(A_rrG)"
   ]
  },
  {
   "cell_type": "code",
   "execution_count": 15,
   "metadata": {},
   "outputs": [
    {
     "name": "stdout",
     "output_type": "stream",
     "text": [
      "[[ 5. -1. -1. -1. -1. -1.]\n",
      " [-1.  5. -1. -1. -1. -1.]\n",
      " [-1. -1.  5. -1. -1. -1.]\n",
      " [-1. -1. -1.  5. -1. -1.]\n",
      " [-1. -1. -1. -1.  5. -1.]\n",
      " [-1. -1. -1. -1. -1.  5.]]\n"
     ]
    },
    {
     "data": {
      "text/plain": [
       "array([ -5.55111512e-16,   6.00000000e+00,   6.00000000e+00,\n",
       "         6.00000000e+00,   6.00000000e+00,   6.00000000e+00])"
      ]
     },
     "execution_count": 15,
     "metadata": {},
     "output_type": "execute_result"
    }
   ],
   "source": [
    "\n",
    "# Eigenvalue of the Laplacian Matrix\n",
    "\n",
    "def Laplacian(graph):\n",
    "    # adjacency matrix\n",
    "    A = nx.to_numpy_matrix(graph)\n",
    "    # degree matrix\n",
    "    #print([degree[1] for degree in nx.degree(G = graph)])\n",
    "    D = np.diag([degree[1] for degree in nx.degree(G = graph)])\n",
    "    # laplacian matrix\n",
    "    L = D - A\n",
    "    print(L)\n",
    "    return(L)\n",
    "\n",
    "L = Laplacian(rrG)\n",
    "np.sort(alg.eig(L)[0])"
   ]
  },
  {
   "cell_type": "code",
   "execution_count": 111,
   "metadata": {},
   "outputs": [
    {
     "data": {
      "text/plain": [
       "NodeView((0, 1, 2, 3, 4, 5))"
      ]
     },
     "execution_count": 111,
     "metadata": {},
     "output_type": "execute_result"
    }
   ],
   "source": [
    "# Breath first search\n",
    "# finds all paths for a given node\n",
    "rrG.nodes[]"
   ]
  },
  {
   "cell_type": "markdown",
   "metadata": {},
   "source": [
    "Compare the complexity as a function of\n",
    "n\n",
    "of the methods\n",
    "above."
   ]
  },
  {
   "cell_type": "code",
   "execution_count": null,
   "metadata": {
    "collapsed": true
   },
   "outputs": [],
   "source": []
  },
  {
   "cell_type": "markdown",
   "metadata": {},
   "source": [
    "Let\n",
    "p\n",
    "c\n",
    "(\n",
    "G\n",
    ") denote the probability that a graph\n",
    "G\n",
    "is connected.\n",
    "\n",
    "Produce two graphs:\n",
    "p\n",
    "c\n",
    "(\n",
    "G\n",
    ") vs.\n",
    "p\n",
    "for Erd ̋os-R ́enyi graphs\n",
    "G\n",
    "(\n",
    "n\n",
    ",\n",
    "p\n",
    ") with\n",
    "n\n",
    "= 100.\n",
    "p\n",
    "c\n",
    "(\n",
    "G\n",
    ") vs.\n",
    "n\n",
    "for\n",
    "r\n",
    "-regular random graphs with\n",
    "r\n",
    "= 2\n",
    ",\n",
    "4\n",
    ",\n",
    "8\n",
    ",\n",
    "16\n",
    "and\n",
    "n\n",
    "ranging up to 100."
   ]
  },
  {
   "cell_type": "code",
   "execution_count": null,
   "metadata": {
    "collapsed": true
   },
   "outputs": [],
   "source": []
  },
  {
   "cell_type": "markdown",
   "metadata": {},
   "source": [
    "### Part 2 \n",
    "\n",
    "Throughput performance\n",
    "Write a script that:  \n",
    "- (i) generates a random graph describing\n",
    "the topology of the ToR switch network; \n",
    "- (ii) checks its\n",
    "connectivity; \n",
    "- (iii) finds shortest path routes; (iv) estimates\n",
    "h\n",
    ".\n",
    "\n",
    "Use both the\n",
    "r\n",
    "-regular random graph model and the\n",
    "p\n",
    "-Erd ̋os-R ́enyi random graph model.  In either case let\n",
    "n\n",
    "be the\n",
    "number of nodes (you can assume 9\n",
    "≤\n",
    "n\n",
    "≤\n",
    "100,\n",
    "r\n",
    "= 8 and\n",
    "p\n",
    "= 8\n",
    "/\n",
    "(\n",
    "n\n",
    "−\n",
    "1))\n",
    "\n",
    "Plot the application-oblivious throughput bound\n",
    "TH\n",
    ", as\n",
    "defined above, versus\n",
    "n\n",
    "for the two graph models."
   ]
  },
  {
   "cell_type": "code",
   "execution_count": null,
   "metadata": {
    "collapsed": true
   },
   "outputs": [],
   "source": []
  },
  {
   "cell_type": "markdown",
   "metadata": {},
   "source": [
    "Reliability performance\n",
    "\n",
    "Assume a link can break down (fail) with probability\n",
    "q\n",
    ".\n",
    "\n",
    "Plot\n",
    "TH\n",
    "as a function of\n",
    "q\n",
    "for 0\n",
    "<\n",
    "q\n",
    "≤\n",
    "0\n",
    ".\n",
    "25, for the two\n",
    "network models in point 1) above with\n",
    "n\n",
    "= 100."
   ]
  },
  {
   "cell_type": "code",
   "execution_count": null,
   "metadata": {
    "collapsed": true
   },
   "outputs": [],
   "source": []
  }
 ],
 "metadata": {
  "kernelspec": {
   "display_name": "Python 3",
   "language": "python",
   "name": "python3"
  },
  "language_info": {
   "codemirror_mode": {
    "name": "ipython",
    "version": 3
   },
   "file_extension": ".py",
   "mimetype": "text/x-python",
   "name": "python",
   "nbconvert_exporter": "python",
   "pygments_lexer": "ipython3",
   "version": "3.6.3"
  }
 },
 "nbformat": 4,
 "nbformat_minor": 2
}
